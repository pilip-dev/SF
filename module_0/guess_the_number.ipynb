{
 "cells": [
  {
   "cell_type": "code",
   "execution_count": 3,
   "metadata": {},
   "outputs": [
    {
     "name": "stdout",
     "output_type": "stream",
     "text": [
      "Ваш алгоритм угадывает число в среднем за 5 попыток\n"
     ]
    },
    {
     "data": {
      "text/plain": [
       "5"
      ]
     },
     "execution_count": 3,
     "metadata": {},
     "output_type": "execute_result"
    }
   ],
   "source": [
    "import numpy as np\n",
    "\n",
    "\n",
    "def game_core_v3(number):\n",
    "    '''\n",
    "    Реализация алгоритма двоичного поиска, использующего дробление массива на\n",
    "    половины.\n",
    "\n",
    "    Parameters\n",
    "    ----------\n",
    "    number : int\n",
    "        любое число в диапазоне 1..100, которое необходимо угадать\n",
    "\n",
    "    Returns\n",
    "    -------\n",
    "    int\n",
    "        количество попыток до того, как число number было угадано\n",
    "    '''\n",
    "    count = 1\n",
    "    # расстояние до середины, будем делить его на два каждую итерацию и\n",
    "    # добавлять к / вычитать от предыдущего значения predict\n",
    "    shift = 50\n",
    "    predict = 50\n",
    "    while number != predict:\n",
    "        count += 1\n",
    "        if number == predict:\n",
    "            # число угадано, выходим из цикла\n",
    "            break\n",
    "\n",
    "        # округляем в большую сторону\n",
    "        shift = int(shift/2 + 0.5)\n",
    "        if number > predict:\n",
    "            # следующая попытка на \"половину\" больше\n",
    "            predict += shift\n",
    "        else:\n",
    "            # следующая попытка на \"половину\" меньше\n",
    "            predict -= shift\n",
    "\n",
    "    # возвращаем количество итераций\n",
    "    return count\n",
    "\n",
    "\n",
    "def score_game(game_core):\n",
    "    '''\n",
    "    Запускает игру 1000 раз, чтобы узнать, как быстро игра угадывает число\n",
    "\n",
    "    Parameters\n",
    "    ----------\n",
    "    game_core : function\n",
    "        функция реализующая угадывание\n",
    "\n",
    "    Return\n",
    "    ------\n",
    "    int\n",
    "        возвращает среднее количество попыток в качестве оценки эффективности\n",
    "        алгоритма угадывания\n",
    "    '''\n",
    "    count_ls = []\n",
    "    # фиксируем RANDOM SEED, чтобы ваш эксперимент был воспроизводим!\n",
    "    np.random.seed(1)\n",
    "    random_array = np.random.randint(1, 101, size=1000)\n",
    "    for number in random_array:\n",
    "        count_ls.append(game_core(number))\n",
    "    score = int(np.mean(count_ls))\n",
    "    print(f\"Ваш алгоритм угадывает число в среднем за {score} попыток\")\n",
    "    return(score)\n",
    "\n",
    "\n",
    "# запускаем\n",
    "score_game(game_core_v3)\n"
   ]
  }
 ],
 "metadata": {
  "kernelspec": {
   "display_name": "Python 3",
   "language": "python",
   "name": "python3"
  },
  "language_info": {
   "codemirror_mode": {
    "name": "ipython",
    "version": 3
   },
   "file_extension": ".py",
   "mimetype": "text/x-python",
   "name": "python",
   "nbconvert_exporter": "python",
   "pygments_lexer": "ipython3",
   "version": "3.8.5"
  }
 },
 "nbformat": 4,
 "nbformat_minor": 4
}
